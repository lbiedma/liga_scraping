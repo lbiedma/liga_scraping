{
 "cells": [
  {
   "cell_type": "code",
   "execution_count": 6,
   "id": "481f5a96",
   "metadata": {},
   "outputs": [],
   "source": [
    "import sys\n",
    "sys.path.append(\".\")\n",
    "import pandas as pd\n",
    "from create_four_factors_analysis import create_four_factors_analysis"
   ]
  },
  {
   "cell_type": "code",
   "execution_count": 7,
   "id": "dca47de3",
   "metadata": {},
   "outputs": [],
   "source": [
    "juegos_dict = {\n",
    "    \"juego_1\": {\n",
    "        \"CABJ\": \"liga_data_juego_1_0.csv\",\n",
    "        \"IACC\": \"liga_data_juego_1_1.csv\"\n",
    "    },\n",
    "    \"juego_2\": {\n",
    "        \"CABJ\": \"liga_data_juego_2_0.csv\",\n",
    "        \"IACC\": \"liga_data_juego_2_1.csv\"\n",
    "    },\n",
    "    \"juego_3\": {\n",
    "        \"IACC\": \"liga_data_juego_3_0.csv\",\n",
    "        \"CABJ\": \"liga_data_juego_3_1.csv\"\n",
    "    },\n",
    "    \"juego_4\": {\n",
    "        \"IACC\": \"liga_data_juego_4_0.csv\",\n",
    "        \"CABJ\": \"liga_data_juego_4_1.csv\"\n",
    "    },\n",
    "    \"juego_5\": {\n",
    "        \"CABJ\": \"liga_data_juego_5_0.csv\",\n",
    "        \"IACC\": \"liga_data_juego_5_1.csv\"\n",
    "    },\n",
    "    \"juego_6\": {\n",
    "        \"IACC\": \"liga_data_juego_6_0.csv\",\n",
    "        \"CABJ\": \"liga_data_juego_6_1.csv\"\n",
    "    }\n",
    "}"
   ]
  },
  {
   "cell_type": "code",
   "execution_count": 8,
   "id": "f81d0a1c",
   "metadata": {},
   "outputs": [
    {
     "name": "stdout",
     "output_type": "stream",
     "text": [
      "juego_1\n",
      "CABJ: 0.33\n",
      "IACC: 0.33\n",
      "--------------------------------\n",
      "juego_2\n",
      "CABJ: 0.29\n",
      "IACC: 0.27\n",
      "--------------------------------\n",
      "juego_3\n",
      "CABJ: 0.41\n",
      "IACC: 0.32\n",
      "--------------------------------\n",
      "juego_4\n",
      "CABJ: 0.34\n",
      "IACC: 0.34\n",
      "--------------------------------\n",
      "juego_5\n",
      "CABJ: 0.40\n",
      "IACC: 0.38\n",
      "--------------------------------\n",
      "juego_6\n",
      "CABJ: 0.32\n",
      "IACC: 0.31\n",
      "--------------------------------\n"
     ]
    }
   ],
   "source": [
    "for key, value in juegos_dict.items():\n",
    "    df = pd.read_csv(f\"finales/{value['CABJ']}\")\n",
    "    opp_df = pd.read_csv(f\"finales/{value['IACC']}\")\n",
    "    final_stats_cabj = create_four_factors_analysis(df, opp_df)\n",
    "    final_stats_iacc = create_four_factors_analysis(opp_df, df)\n",
    "    print(key)\n",
    "    print(f\"CABJ: {final_stats_cabj['four_off_factors_score']:.2f}\")\n",
    "    print(f\"IACC: {final_stats_iacc['four_off_factors_score']:.2f}\")\n",
    "\n",
    "    print(\"--------------------------------\")"
   ]
  }
 ],
 "metadata": {
  "kernelspec": {
   "display_name": "liga",
   "language": "python",
   "name": "python3"
  },
  "language_info": {
   "codemirror_mode": {
    "name": "ipython",
    "version": 3
   },
   "file_extension": ".py",
   "mimetype": "text/x-python",
   "name": "python",
   "nbconvert_exporter": "python",
   "pygments_lexer": "ipython3",
   "version": "3.13.5"
  }
 },
 "nbformat": 4,
 "nbformat_minor": 5
}
